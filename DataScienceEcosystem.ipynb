{
 "cells": [
  {
   "cell_type": "markdown",
   "id": "3fe933c0-0ef3-4198-b880-11859bf04c4a",
   "metadata": {},
   "source": [
    "# Data Science Overview Notebook\n"
   ]
  },
  {
   "cell_type": "markdown",
   "id": "affe57ce-faf8-4108-be7f-2f9b599f1c5d",
   "metadata": {},
   "source": [
    "## Introduction\n",
    "\n",
    "This notebook provides an overview of data science, including commonly used languages, libraries, and tools. We will also cover some basic arithmetic operations and conversions.\n"
   ]
  },
  {
   "cell_type": "markdown",
   "id": "cd784e5f-7c9f-4601-96c7-49cb9d6c5897",
   "metadata": {},
   "source": [
    "## Data Science Languages\n",
    "\n",
    "Some of the popular languages that Data Scientists use are:\n",
    "- Python\n",
    "- R\n",
    "- SQL\n",
    "- Julia\n",
    "- Scala\n"
   ]
  },
  {
   "cell_type": "markdown",
   "id": "7258fc23-0b6e-4e17-8031-c6340ef81fa0",
   "metadata": {},
   "source": [
    "## Data Science Libraries\n",
    "\n",
    "Some of the commonly used libraries used by Data Scientists include:\n",
    "- **Python Libraries:**\n",
    "  - NumPy\n",
    "  - Pandas\n",
    "  - Matplotlib\n",
    "  - Seaborn\n",
    "  - Scikit-learn\n",
    "- **R Libraries:**\n",
    "  - ggplot2\n",
    "  - dplyr\n",
    "  - tidyr\n",
    "  - caret\n",
    "- **Others:**\n",
    "  - TensorFlow (Python)\n",
    "  - PyTorch (Python)\n"
   ]
  },
  {
   "cell_type": "markdown",
   "id": "2d65d06a-c38f-4d60-a7d0-f7d120d35d53",
   "metadata": {},
   "source": [
    "## Data Science Tools\n",
    "\n",
    "Data Science Tools\n",
    "\n",
    "| Tool        | Description                          |\n",
    "|-------------|--------------------------------------|\n",
    "| Jupyter     | Interactive notebook environment     |\n",
    "| RStudio     | IDE for R programming                 |\n",
    "| VS Code     | General code editor                   |\n",
    "| TensorFlow  | Machine learning framework           |\n",
    "| Tableau     | Data visualization tool               |\n"
   ]
  },
  {
   "cell_type": "markdown",
   "id": "bacdc924-5bac-47a8-b288-ca4dd30d0ed1",
   "metadata": {},
   "source": [
    "## Below are a few examples of evaluating arithmetic expressions in Python\n",
    "\n",
    "In this section, we will perform some basic arithmetic operations, including addition and multiplication, using Python.\n"
   ]
  },
  {
   "cell_type": "markdown",
   "id": "a3932267-47ba-49b5-8d63-ab3b8bd8bae4",
   "metadata": {},
   "source": [
    "# Multiplication\n",
    "product = (3*4)\n",
    "\n",
    "# Addition\n",
    "sum_result = (3*4)+5\n",
    "\n",
    "This a simple arithmetic expression to mutiply then add integers\n"
   ]
  },
  {
   "cell_type": "markdown",
   "id": "f4cd1eff-5fbc-4f1a-8902-51f91445da5c",
   "metadata": {},
   "source": [
    "# Convert minutes to hours\n",
    "def minutes_to_hours(minutes):\n",
    "    return minutes / 60\n",
    "\n",
    "# Example conversion\n",
    "minutes = 120\n",
    "hours = minutes_to_hours(minutes)\n",
    "\n",
    "hours\n"
   ]
  },
  {
   "cell_type": "markdown",
   "id": "5ef70bef-dfcc-4db4-9940-08597cef4f23",
   "metadata": {},
   "source": [
    "## Objectives\n",
    "\n",
    "- Understand basic data science languages and libraries.\n",
    "- Learn about commonly used data science tools.\n",
    "- Perform simple arithmetic operations and conversions.\n",
    "- Gain familiarity with basic Python code for arithmetic and unit conversions.\n"
   ]
  },
  {
   "cell_type": "markdown",
   "id": "0669885a-e76f-40ea-84d4-e5f651d4c0b5",
   "metadata": {},
   "source": [
    "## Author\n",
    "\n",
    "This notebook was created by [M Dawood].\n"
   ]
  }
 ],
 "metadata": {
  "kernelspec": {
   "display_name": "Python",
   "language": "python",
   "name": "conda-env-python-py"
  },
  "language_info": {
   "codemirror_mode": {
    "name": "ipython",
    "version": 3
   },
   "file_extension": ".py",
   "mimetype": "text/x-python",
   "name": "python",
   "nbconvert_exporter": "python",
   "pygments_lexer": "ipython3",
   "version": "3.7.12"
  }
 },
 "nbformat": 4,
 "nbformat_minor": 5
}
